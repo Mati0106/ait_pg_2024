{
 "cells": [
  {
   "cell_type": "code",
   "execution_count": null,
   "id": "49646f25-fe3a-4add-831d-222c4596bcc5",
   "metadata": {},
   "outputs": [],
   "source": [
    "import pandas as pd\n",
    "import sklearn.datasets\n",
    "\n",
    "iris = sklearn.datasets.load_iris(as_frame=True)\n",
    "data = pd.DataFrame(data=iris.data, columns=iris.feature_names)\n",
    "\n",
    "print(data.columns)\n",
    "\n",
    "col_to_drop = 'sepal length (cm)'\n",
    "cols_to_drop = ['sepal length (cm)','sepal width (cm)']\n",
    "\n",
    "new_data = data.drop(cols_to_drop, axis=1)\n",
    "\n",
    "# or\n",
    "\n",
    "data.drop(cols_to_drop, axis=1, inplace=True)\n",
    "print('FINISHED')\n",
    "\n",
    "\n"
   ]
  }
 ],
 "metadata": {
  "kernelspec": {
   "display_name": "Python 3 (ipykernel)",
   "language": "python",
   "name": "python3"
  },
  "language_info": {
   "codemirror_mode": {
    "name": "ipython",
    "version": 3
   },
   "file_extension": ".py",
   "mimetype": "text/x-python",
   "name": "python",
   "nbconvert_exporter": "python",
   "pygments_lexer": "ipython3",
   "version": "3.12.2"
  }
 },
 "nbformat": 4,
 "nbformat_minor": 5
}
