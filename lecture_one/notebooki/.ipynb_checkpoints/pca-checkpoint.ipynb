{
 "cells": [
  {
   "cell_type": "code",
   "execution_count": null,
   "metadata": {
    "collapsed": true,
    "pycharm": {
     "name": "#%%\n"
    }
   },
   "outputs": [],
   "source": [
    "import pandas as pd\n",
    "\n",
    "#prosze zastosowac komende ctrl+alt+l i zwrocic uwage co sie dzieje z linijka ponizej, jezeli nie zauwaza panstwo zmiany, mozna cofnac klikajac cntr+z\n",
    "d = {'col1': [4,8,13, 7], 'col2': [11, 4, 5, 14]}\n",
    "df = pd.DataFrame(data=d)\n",
    "\n",
    "from sklearn.decomposition import PCA\n",
    "\n",
    "#definiujemy ile komponentow chcemy otrzymac z PCA (ile wyznaczyc wektorow wlasnych, patrz liczenie PCA z zajec nr1, link na wykladzie)\n",
    "pca = PCA(n_components=1)\n",
    "\n",
    "X_train = pca.fit_transform(df)\n",
    "\n",
    "\n",
    "explained_variance = pca.explained_variance_ratio_\n",
    "\n",
    "#omowic variance"
   ]
  }
 ],
 "metadata": {
  "kernelspec": {
   "display_name": "Python 3",
   "language": "python",
   "name": "python3"
  },
  "language_info": {
   "codemirror_mode": {
    "name": "ipython",
    "version": 2
   },
   "file_extension": ".py",
   "mimetype": "text/x-python",
   "name": "python",
   "nbconvert_exporter": "python",
   "pygments_lexer": "ipython2",
   "version": "2.7.6"
  }
 },
 "nbformat": 4,
 "nbformat_minor": 0
}